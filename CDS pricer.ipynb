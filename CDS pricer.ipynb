{
 "cells": [
  {
   "cell_type": "code",
   "execution_count": 116,
   "id": "ffcc7b75",
   "metadata": {},
   "outputs": [],
   "source": [
    "import pandas as pd\n",
    "import math as m"
   ]
  },
  {
   "cell_type": "code",
   "execution_count": 161,
   "id": "768ca21a",
   "metadata": {},
   "outputs": [],
   "source": [
    "\n",
    "def CDS_spread(default_probability, recovery_rate, rate, duration):\n",
    "#     default_probability: probability of default annually\n",
    "#     recovery_rate: given the refrence feaulted now recover\n",
    "#     rate: yield in the mkt or maybe bonds yield\n",
    "#     duration: no. of years, tenor of contract\n",
    "    \n",
    "    DCF_no_default = 0\n",
    "    DCF_given_default = 0\n",
    "    DCF_payable_given_default = 0\n",
    "    survival_probability = 1-default_probability\n",
    "    discount_factor = 0;\n",
    "    data = [{'default_prob': 0,\n",
    "                    'survival_prob': 0,\n",
    "                    'dis_f':0,\n",
    "                    'dcf_no_def': 0,\n",
    "                    'def_prob_mid': 0/2, \n",
    "                    'dis_f_mid': 0, \n",
    "                    'dcf_given_def': 0, \n",
    "                    'payable_given_def': 0,\n",
    "                    'dis_f_mid': 0, \n",
    "                    'dcf_payable_def': 0}]\n",
    "    \n",
    "    df = pd.DataFrame(data)\n",
    "    \n",
    "#     df = pd.DataFrame(columns = ['default_prob','survival_prob','dis_f', 'dcf_no_def', 'def_prob_mid', 'dis_f_mid', 'dcf_given_def', 'payable_given_def', 'dis_f_mid', 'dcf_payable_def'])\n",
    "        \n",
    "    for i in range(duration):\n",
    "#     for next year\n",
    "        \n",
    "        discount_factor = m.exp(-rate*(i+1))\n",
    "        discount_factor_midyear = m.exp(-rate*(i+0.5))\n",
    "        \n",
    "        DCF_no_default+=survival_probability*discount_factor \n",
    "        DCF_given_default+=default_probability/2*discount_factor_midyear\n",
    "        \n",
    "        DCF_payable_given_default += default_probability*(1-recovery_rate)*discount_factor_midyear    \n",
    "        \n",
    "        new_row = {'default_prob': default_probability,\n",
    "                    'survival_prob': survival_probability,\n",
    "                    'dis_f': discount_factor,\n",
    "                    'dcf_no_def': DCF_no_default,\n",
    "                    'def_prob_mid': default_probability/2, \n",
    "                    'dis_f_mid': discount_factor_midyear, \n",
    "                    'dcf_given_def': DCF_given_default, \n",
    "                    'payable_given_def': default_probability*(1-recovery_rate),\n",
    "                    'dis_f_mid': discount_factor_midyear, \n",
    "                    'dcf_payable_def': DCF_payable_given_default}\n",
    "\n",
    "#         df = df.pd.concat(new_row, ignore_index=True)\n",
    "#         df = pd.concat([df, new_row], ignore_index=True)\n",
    "            \n",
    "        default_probability*=survival_probability\n",
    "        survival_probability*=survival_probability\n",
    "    print(new_row)\n",
    "        \n",
    "    return DCF_payable_given_default/(DCF_no_default+DCF_given_default)\n",
    "    \n",
    "#     print(df)\n",
    "            "
   ]
  },
  {
   "cell_type": "code",
   "execution_count": 162,
   "id": "d31be59c",
   "metadata": {},
   "outputs": [
    {
     "name": "stdout",
     "output_type": "stream",
     "text": [
      "{'default_prob': 0.010691492659895758, 'survival_prob': 0.5238831403348921, 'dis_f': 0.697676326071031, 'dcf_no_def': 4.116091579208191, 'def_prob_mid': 0.005345746329947879, 'dis_f_mid': 0.7189237334319262, 'dcf_given_def': 0.04328005336696909, 'payable_given_def': 0.008018619494921818, 'dcf_payable_def': 0.06492008005045365}\n",
      "0.01560814608197445\n"
     ]
    }
   ],
   "source": [
    "print(CDS_spread(0.02, 0.25, 0.06, 6))"
   ]
  },
  {
   "cell_type": "code",
   "execution_count": 138,
   "id": "11bf5793",
   "metadata": {},
   "outputs": [],
   "source": [
    "data = [{'a': 1, 'b': 2, 'c': 3},\n",
    "        {'a': 10, 'b': 20, 'c': 30}]\n",
    "\n",
    "df = pd.DataFrame(data)"
   ]
  },
  {
   "cell_type": "code",
   "execution_count": 139,
   "id": "3241f619",
   "metadata": {},
   "outputs": [
    {
     "data": {
      "text/html": [
       "<div>\n",
       "<style scoped>\n",
       "    .dataframe tbody tr th:only-of-type {\n",
       "        vertical-align: middle;\n",
       "    }\n",
       "\n",
       "    .dataframe tbody tr th {\n",
       "        vertical-align: top;\n",
       "    }\n",
       "\n",
       "    .dataframe thead th {\n",
       "        text-align: right;\n",
       "    }\n",
       "</style>\n",
       "<table border=\"1\" class=\"dataframe\">\n",
       "  <thead>\n",
       "    <tr style=\"text-align: right;\">\n",
       "      <th></th>\n",
       "      <th>a</th>\n",
       "      <th>b</th>\n",
       "      <th>c</th>\n",
       "    </tr>\n",
       "  </thead>\n",
       "  <tbody>\n",
       "    <tr>\n",
       "      <th>0</th>\n",
       "      <td>1</td>\n",
       "      <td>2</td>\n",
       "      <td>3</td>\n",
       "    </tr>\n",
       "    <tr>\n",
       "      <th>1</th>\n",
       "      <td>10</td>\n",
       "      <td>20</td>\n",
       "      <td>30</td>\n",
       "    </tr>\n",
       "  </tbody>\n",
       "</table>\n",
       "</div>"
      ],
      "text/plain": [
       "    a   b   c\n",
       "0   1   2   3\n",
       "1  10  20  30"
      ]
     },
     "execution_count": 139,
     "metadata": {},
     "output_type": "execute_result"
    }
   ],
   "source": [
    "df"
   ]
  },
  {
   "cell_type": "code",
   "execution_count": 140,
   "id": "539b38c4",
   "metadata": {},
   "outputs": [],
   "source": [
    "data.append({'a': 100, 'b': 5, 'c': 35})"
   ]
  },
  {
   "cell_type": "code",
   "execution_count": 141,
   "id": "a39d4922",
   "metadata": {},
   "outputs": [
    {
     "data": {
      "text/html": [
       "<div>\n",
       "<style scoped>\n",
       "    .dataframe tbody tr th:only-of-type {\n",
       "        vertical-align: middle;\n",
       "    }\n",
       "\n",
       "    .dataframe tbody tr th {\n",
       "        vertical-align: top;\n",
       "    }\n",
       "\n",
       "    .dataframe thead th {\n",
       "        text-align: right;\n",
       "    }\n",
       "</style>\n",
       "<table border=\"1\" class=\"dataframe\">\n",
       "  <thead>\n",
       "    <tr style=\"text-align: right;\">\n",
       "      <th></th>\n",
       "      <th>a</th>\n",
       "      <th>b</th>\n",
       "      <th>c</th>\n",
       "    </tr>\n",
       "  </thead>\n",
       "  <tbody>\n",
       "    <tr>\n",
       "      <th>0</th>\n",
       "      <td>1</td>\n",
       "      <td>2</td>\n",
       "      <td>3</td>\n",
       "    </tr>\n",
       "    <tr>\n",
       "      <th>1</th>\n",
       "      <td>10</td>\n",
       "      <td>20</td>\n",
       "      <td>30</td>\n",
       "    </tr>\n",
       "  </tbody>\n",
       "</table>\n",
       "</div>"
      ],
      "text/plain": [
       "    a   b   c\n",
       "0   1   2   3\n",
       "1  10  20  30"
      ]
     },
     "execution_count": 141,
     "metadata": {},
     "output_type": "execute_result"
    }
   ],
   "source": [
    "df"
   ]
  },
  {
   "cell_type": "code",
   "execution_count": null,
   "id": "05d7ee02",
   "metadata": {},
   "outputs": [],
   "source": []
  },
  {
   "cell_type": "code",
   "execution_count": null,
   "id": "ee13eab5",
   "metadata": {},
   "outputs": [],
   "source": []
  }
 ],
 "metadata": {
  "kernelspec": {
   "display_name": "Python 3 (ipykernel)",
   "language": "python",
   "name": "python3"
  },
  "language_info": {
   "codemirror_mode": {
    "name": "ipython",
    "version": 3
   },
   "file_extension": ".py",
   "mimetype": "text/x-python",
   "name": "python",
   "nbconvert_exporter": "python",
   "pygments_lexer": "ipython3",
   "version": "3.9.12"
  }
 },
 "nbformat": 4,
 "nbformat_minor": 5
}
