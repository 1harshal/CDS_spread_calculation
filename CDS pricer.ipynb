{
 "cells": [
  {
   "cell_type": "code",
   "execution_count": 247,
   "id": "f390fd35",
   "metadata": {},
   "outputs": [],
   "source": [
    "import pandas as pd\n",
    "import math as m"
   ]
  },
  {
   "cell_type": "code",
   "execution_count": 259,
   "id": "d01abd94",
   "metadata": {},
   "outputs": [],
   "source": [
    "def CDS_spread(default_probability, recovery_rate, rate, duration):\n",
    "    DCF_no_default = 0\n",
    "    DCF_given_default = 0\n",
    "    DCF_payable_given_default = 0\n",
    "    survival_probability = 1 - default_probability\n",
    "    discount_factor = 0\n",
    "\n",
    "    df = pd.DataFrame(columns=['default_prob',\n",
    "                               'survival_prob',\n",
    "                               'dis_f',\n",
    "                               'dcf_no_def',\n",
    "                               'def_prob_mid',\n",
    "                               'dis_f_mid',\n",
    "                               'dcf_given_def',\n",
    "                               'payable_given_def',\n",
    "                               'dis_f_mid_again',\n",
    "                               'dcf_payable_def'])\n",
    "\n",
    "    dp = default_probability\n",
    "\n",
    "    for i in range(duration):\n",
    "        discount_factor = m.exp(-rate * (i + 1))\n",
    "        discount_factor_midyear = m.exp(-rate * (i + 0.5))\n",
    "\n",
    "        DCF_no_default += survival_probability * discount_factor\n",
    "        DCF_given_default += default_probability / 2 * discount_factor_midyear\n",
    "\n",
    "        DCF_payable_given_default += default_probability * (1 - recovery_rate) * discount_factor_midyear\n",
    "\n",
    "        new_row = pd.DataFrame({'default_prob': [default_probability],\n",
    "                                'survival_prob': [survival_probability],\n",
    "                                'dis_f': [discount_factor],\n",
    "                                'dcf_no_def': [survival_probability * discount_factor],\n",
    "                                'def_prob_mid': [default_probability / 2],\n",
    "                                'dis_f_mid': [discount_factor_midyear],\n",
    "                                'dcf_given_def': [default_probability / 2 * discount_factor_midyear],\n",
    "                                'payable_given_def': [default_probability * (1 - recovery_rate)],\n",
    "                                'dis_f_mid_again': [discount_factor_midyear],\n",
    "                                'dcf_payable_def': [default_probability * (1 - recovery_rate) * discount_factor_midyear]})\n",
    "        \n",
    "        new_row = new_row.round(4)\n",
    "        df = pd.concat([df, new_row], ignore_index=True)\n",
    "\n",
    "        default_probability = survival_probability * dp\n",
    "        survival_probability -= default_probability\n",
    "\n",
    "    # Round off the dataframe values to 4 decimal places\n",
    "#     df = df.round(1)\n",
    "    df.index+=1\n",
    "    print(df)\n",
    "    return round((DCF_payable_given_default / (DCF_no_default + DCF_given_default))*10000,3)\n"
   ]
  },
  {
   "cell_type": "code",
   "execution_count": 260,
   "id": "83fcbcc3",
   "metadata": {},
   "outputs": [
    {
     "name": "stdout",
     "output_type": "stream",
     "text": [
      "  default_prob survival_prob   dis_f dcf_no_def def_prob_mid dis_f_mid  \\\n",
      "1         0.03          0.97  0.9512     0.9227        0.015    0.9753   \n",
      "2       0.0291        0.9409  0.9048     0.8514       0.0146    0.9277   \n",
      "3       0.0282        0.9127  0.8607     0.7855       0.0141    0.8825   \n",
      "4       0.0274        0.8853  0.8187     0.7248       0.0137    0.8395   \n",
      "5       0.0266        0.8587  0.7788     0.6688       0.0133    0.7985   \n",
      "6       0.0258         0.833  0.7408     0.6171       0.0129    0.7596   \n",
      "\n",
      "  dcf_given_def payable_given_def dis_f_mid_again dcf_payable_def  \n",
      "1        0.0146             0.018          0.9753          0.0176  \n",
      "2        0.0135            0.0175          0.9277          0.0162  \n",
      "3        0.0125            0.0169          0.8825          0.0149  \n",
      "4        0.0115            0.0164          0.8395          0.0138  \n",
      "5        0.0106            0.0159          0.7985          0.0127  \n",
      "6        0.0098            0.0155          0.7596          0.0117  \n"
     ]
    },
    {
     "data": {
      "text/plain": [
       "187.295"
      ]
     },
     "execution_count": 260,
     "metadata": {},
     "output_type": "execute_result"
    }
   ],
   "source": [
    "CDS_spread(0.03, 0.4, 0.05, 6)"
   ]
  },
  {
   "cell_type": "code",
   "execution_count": null,
   "id": "8f02273d",
   "metadata": {},
   "outputs": [],
   "source": []
  }
 ],
 "metadata": {
  "kernelspec": {
   "display_name": "Python 3 (ipykernel)",
   "language": "python",
   "name": "python3"
  },
  "language_info": {
   "codemirror_mode": {
    "name": "ipython",
    "version": 3
   },
   "file_extension": ".py",
   "mimetype": "text/x-python",
   "name": "python",
   "nbconvert_exporter": "python",
   "pygments_lexer": "ipython3",
   "version": "3.9.12"
  }
 },
 "nbformat": 4,
 "nbformat_minor": 5
}
